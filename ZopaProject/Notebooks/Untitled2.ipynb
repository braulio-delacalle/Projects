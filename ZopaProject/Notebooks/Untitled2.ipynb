{
 "cells": [
  {
   "cell_type": "code",
   "execution_count": null,
   "metadata": {},
   "outputs": [],
   "source": [
    "import sys\n",
    "sys.path.append('..')\n",
    "\n",
    "import pandas as pd\n",
    "from ToolsLoanCalculator import LoanCalculator\n",
    "\n",
    "zopa_data = pd.read_csv(\"../Data/ZopaData.csv\")\n",
    "\n",
    "zopa_data = zopa_data.drop(columns = \"Unnamed: 0\")\n",
    "zopa_data = zopa_data.sort_values(by = \"Rate\", ascending = True)\n",
    "zopa_data = zopa_data.reset_index()\n",
    "zopa_data = zopa_data.drop(\"index\", axis = 1)\n",
    "zopa_data = zopa_data.drop(\"level_0\", axis = 1)"
   ]
  },
  {
   "cell_type": "code",
   "execution_count": 68,
   "metadata": {},
   "outputs": [],
   "source": [
    "import sys\n",
    "sys.path.append('..')"
   ]
  },
  {
   "cell_type": "code",
   "execution_count": 69,
   "metadata": {},
   "outputs": [],
   "source": [
    "import pandas as pd\n",
    "from ToolsLoanCalculator import LoanCalculator"
   ]
  },
  {
   "cell_type": "code",
   "execution_count": 70,
   "metadata": {},
   "outputs": [],
   "source": [
    "zopa_data = pd.read_csv(\"../Data/ZopaData.csv\")"
   ]
  },
  {
   "cell_type": "code",
   "execution_count": 72,
   "metadata": {},
   "outputs": [],
   "source": [
    "zopa_data = zopa_data.drop(columns = \"Unnamed: 0\")"
   ]
  },
  {
   "cell_type": "code",
   "execution_count": 73,
   "metadata": {
    "scrolled": true
   },
   "outputs": [
    {
     "data": {
      "text/html": [
       "<div>\n",
       "<style scoped>\n",
       "    .dataframe tbody tr th:only-of-type {\n",
       "        vertical-align: middle;\n",
       "    }\n",
       "\n",
       "    .dataframe tbody tr th {\n",
       "        vertical-align: top;\n",
       "    }\n",
       "\n",
       "    .dataframe thead th {\n",
       "        text-align: right;\n",
       "    }\n",
       "</style>\n",
       "<table border=\"1\" class=\"dataframe\">\n",
       "  <thead>\n",
       "    <tr style=\"text-align: right;\">\n",
       "      <th></th>\n",
       "      <th>Rate</th>\n",
       "      <th>Available</th>\n",
       "    </tr>\n",
       "  </thead>\n",
       "  <tbody>\n",
       "    <tr>\n",
       "      <th>0</th>\n",
       "      <td>0.11</td>\n",
       "      <td>553</td>\n",
       "    </tr>\n",
       "    <tr>\n",
       "      <th>1</th>\n",
       "      <td>0.12</td>\n",
       "      <td>945</td>\n",
       "    </tr>\n",
       "  </tbody>\n",
       "</table>\n",
       "</div>"
      ],
      "text/plain": [
       "   Rate  Available\n",
       "0  0.11        553\n",
       "1  0.12        945"
      ]
     },
     "execution_count": 73,
     "metadata": {},
     "output_type": "execute_result"
    }
   ],
   "source": [
    "zopa_data.head(2)"
   ]
  },
  {
   "cell_type": "code",
   "execution_count": 77,
   "metadata": {},
   "outputs": [],
   "source": [
    "zopa_data = zopa_data.sort_values(by = \"Rate\", ascending = True)\n",
    "zopa_data = zopa_data.reset_index()\n",
    "zopa_data = zopa_data.drop(\"index\", axis = 1)"
   ]
  },
  {
   "cell_type": "code",
   "execution_count": 78,
   "metadata": {},
   "outputs": [
    {
     "data": {
      "text/html": [
       "<div>\n",
       "<style scoped>\n",
       "    .dataframe tbody tr th:only-of-type {\n",
       "        vertical-align: middle;\n",
       "    }\n",
       "\n",
       "    .dataframe tbody tr th {\n",
       "        vertical-align: top;\n",
       "    }\n",
       "\n",
       "    .dataframe thead th {\n",
       "        text-align: right;\n",
       "    }\n",
       "</style>\n",
       "<table border=\"1\" class=\"dataframe\">\n",
       "  <thead>\n",
       "    <tr style=\"text-align: right;\">\n",
       "      <th></th>\n",
       "      <th>level_0</th>\n",
       "      <th>Rate</th>\n",
       "      <th>Available</th>\n",
       "    </tr>\n",
       "  </thead>\n",
       "  <tbody>\n",
       "    <tr>\n",
       "      <th>0</th>\n",
       "      <td>0</td>\n",
       "      <td>0.05</td>\n",
       "      <td>994</td>\n",
       "    </tr>\n",
       "    <tr>\n",
       "      <th>1</th>\n",
       "      <td>1</td>\n",
       "      <td>0.05</td>\n",
       "      <td>792</td>\n",
       "    </tr>\n",
       "  </tbody>\n",
       "</table>\n",
       "</div>"
      ],
      "text/plain": [
       "   level_0  Rate  Available\n",
       "0        0  0.05        994\n",
       "1        1  0.05        792"
      ]
     },
     "execution_count": 78,
     "metadata": {},
     "output_type": "execute_result"
    }
   ],
   "source": [
    "zopa_data.head(2)"
   ]
  },
  {
   "cell_type": "code",
   "execution_count": 79,
   "metadata": {},
   "outputs": [
    {
     "data": {
      "text/html": [
       "<div>\n",
       "<style scoped>\n",
       "    .dataframe tbody tr th:only-of-type {\n",
       "        vertical-align: middle;\n",
       "    }\n",
       "\n",
       "    .dataframe tbody tr th {\n",
       "        vertical-align: top;\n",
       "    }\n",
       "\n",
       "    .dataframe thead th {\n",
       "        text-align: right;\n",
       "    }\n",
       "</style>\n",
       "<table border=\"1\" class=\"dataframe\">\n",
       "  <thead>\n",
       "    <tr style=\"text-align: right;\">\n",
       "      <th></th>\n",
       "      <th>Rate</th>\n",
       "      <th>Available</th>\n",
       "    </tr>\n",
       "  </thead>\n",
       "  <tbody>\n",
       "    <tr>\n",
       "      <th>0</th>\n",
       "      <td>0.05</td>\n",
       "      <td>994</td>\n",
       "    </tr>\n",
       "    <tr>\n",
       "      <th>1</th>\n",
       "      <td>0.05</td>\n",
       "      <td>792</td>\n",
       "    </tr>\n",
       "    <tr>\n",
       "      <th>2</th>\n",
       "      <td>0.05</td>\n",
       "      <td>803</td>\n",
       "    </tr>\n",
       "    <tr>\n",
       "      <th>3</th>\n",
       "      <td>0.06</td>\n",
       "      <td>865</td>\n",
       "    </tr>\n",
       "    <tr>\n",
       "      <th>4</th>\n",
       "      <td>0.06</td>\n",
       "      <td>747</td>\n",
       "    </tr>\n",
       "  </tbody>\n",
       "</table>\n",
       "</div>"
      ],
      "text/plain": [
       "   Rate  Available\n",
       "0  0.05        994\n",
       "1  0.05        792\n",
       "2  0.05        803\n",
       "3  0.06        865\n",
       "4  0.06        747"
      ]
     },
     "execution_count": 79,
     "metadata": {},
     "output_type": "execute_result"
    }
   ],
   "source": [
    "zopa_data = zopa_data.sort_values(by = \"Rate\", ascending = True)\n",
    "zopa_data = zopa_data.reset_index()\n",
    "zopa_data = zopa_data.drop(\"index\", axis = 1)\n",
    "zopa_data = zopa_data.drop(\"level_0\", axis = 1)\n",
    "zopa_data.head()"
   ]
  },
  {
   "cell_type": "code",
   "execution_count": 66,
   "metadata": {},
   "outputs": [],
   "source": [
    "def loan_rate(n, refill):\n",
    "    amount_asked = n\n",
    "    rate_final = 0\n",
    "    amount_lent = 0\n",
    "    amount_left_to_give = amount_asked\n",
    "    index_ = 0\n",
    "    amount_remaining = 0\n",
    "    \n",
    "    \n",
    "    if n > 15000 or n < 1000:\n",
    "        return \"Please enter a valid amount.\"\n",
    "    if n > sum(zopa_data[\"Available\"]):\n",
    "        return \"We are not able to provide that amount.\"\n",
    "    if n % 100 != 0:\n",
    "        return \"Please enter a valid amount.\"\n",
    "    \n",
    "    for rate, available in zip(zopa_data[\"Rate\"], zopa_data[\"Available\"]):\n",
    "    \n",
    "        if amount_left_to_give == 0:\n",
    "            print(\"\"\"Requested amount: {reqamount}\n",
    "                Rate: {rate_}%\n",
    "                Monthly repayment: {monthly}\n",
    "                Total repayment: {totalrep}\"\"\".format(reqamount = amount_asked, \n",
    "                                                          rate_ = round(rate_final * 100, ndigits = 1),\n",
    "                                                         monthly =  round(amount_asked * ((1+rate_final)/36), ndigits = 2),\n",
    "                                                    totalrep = round(amount_asked * (1+rate_final), ndigits = 2)))\n",
    "            break\n",
    "        \n",
    "        elif amount_left_to_give < int(available):\n",
    "            rate_final += (float(rate) * (int(amount_left_to_give)/ amount_asked))\n",
    "            amount_remaining = int(available) - amount_left_to_give\n",
    "            amount_lent += amount_left_to_give\n",
    "            amount_left_to_give -= amount_left_to_give\n",
    "            index_ += 1\n",
    "\n",
    "        elif amount_left_to_give > int(available):\n",
    "            rate_final += (float(rate) * (int(available)/ amount_asked))\n",
    "            amount_lent += int(available)\n",
    "            amount_left_to_give -= int(available)\n",
    "            index_ += 1\n",
    "            \n",
    "    index_ = index_ - 1\n",
    "    zopa_data_new = zopa_data[index_:]\n",
    "    zopa_data_new[\"Available\"][1] = amount_remaining\n",
    "    \n",
    "    if refill == True:\n",
    "\n",
    "        data_available = np.random.randint(100,1000,size=100)\n",
    "        df_available = pd.DataFrame(data_available, columns=['Available'])\n",
    "\n",
    "        data_rate = np.random.uniform(0.05, 0.2,size=100)\n",
    "        df_rate = pd.DataFrame(data_rate, columns=['Rate'])\n",
    "        df_rate = df_rate.round(decimals = 2)\n",
    "\n",
    "        df = pd.concat([df_rate, df_available], axis=1)\n",
    "\n",
    "        frames = [df, zopa_data_new]\n",
    "        zopa_data_new = pd.concat(frames)\n",
    "    \n",
    "    zopa_data_new.to_csv(\"../Data/ZopaData.csv\")"
   ]
  },
  {
   "cell_type": "code",
   "execution_count": 67,
   "metadata": {},
   "outputs": [
    {
     "name": "stdout",
     "output_type": "stream",
     "text": [
      "Requested amount: 1000\n",
      "                Rate: 6.0%\n",
      "                Monthly repayment: 29.44\n",
      "                Total repayment: 1060.0\n"
     ]
    },
    {
     "name": "stderr",
     "output_type": "stream",
     "text": [
      "<ipython-input-66-8662208e1856>:44: SettingWithCopyWarning: \n",
      "A value is trying to be set on a copy of a slice from a DataFrame\n",
      "\n",
      "See the caveats in the documentation: https://pandas.pydata.org/pandas-docs/stable/user_guide/indexing.html#returning-a-view-versus-a-copy\n",
      "  zopa_data_new[\"Available\"][1] = amount_remaining\n",
      "<ipython-input-67-3631db7f7acb>:1: SettingWithCopyWarning: \n",
      "A value is trying to be set on a copy of a slice from a DataFrame\n",
      "\n",
      "See the caveats in the documentation: https://pandas.pydata.org/pandas-docs/stable/user_guide/indexing.html#returning-a-view-versus-a-copy\n",
      "  loan_rate(1000, True)\n"
     ]
    }
   ],
   "source": [
    "loan_rate(1000, True)"
   ]
  },
  {
   "cell_type": "code",
   "execution_count": null,
   "metadata": {},
   "outputs": [],
   "source": []
  },
  {
   "cell_type": "code",
   "execution_count": null,
   "metadata": {},
   "outputs": [],
   "source": []
  },
  {
   "cell_type": "code",
   "execution_count": null,
   "metadata": {},
   "outputs": [],
   "source": [
    " # In the following loop, rate_lender is the rate of each lender.\n",
    "    # In the following loop, available_lender is the amount available of each lender.\n",
    "    for rate_lender, available_lender in zip(zopa_data[\"Rate\"], zopa_data[\"Available\"]):\n",
    "        if amount_left_to_lend == 0:\n",
    "            print(\"\"\"\n",
    "                Requested amount: {reqamount}\n",
    "                Rate: {rate_}%\n",
    "                Monthly repayment: {monthly}\n",
    "                Total repayment: {totalrep}\"\"\".format(\n",
    "                    reqamount = amount_asked,\n",
    "                    rate_ = round(rate_final * 100, ndigits = 1),\n",
    "                    monthly =  round(amount_asked * ((1+rate_final)/36), ndigits = 2),\n",
    "                    totalrep = round(amount_asked * (1+rate_final), ndigits = 2))\n",
    "                    )\n",
    "            break"
   ]
  },
  {
   "cell_type": "code",
   "execution_count": null,
   "metadata": {},
   "outputs": [],
   "source": []
  },
  {
   "cell_type": "code",
   "execution_count": null,
   "metadata": {},
   "outputs": [],
   "source": []
  },
  {
   "cell_type": "code",
   "execution_count": null,
   "metadata": {},
   "outputs": [],
   "source": [
    "# In the following loop, rate_lender is the rate of each lender.\n",
    "    # In the following loop, available_lender is the amount available of each lender.\n",
    "    for rate_lender, available_lender in zip(zopa_data[\"Rate\"], zopa_data[\"Available\"]):\n",
    "        if amount_left_to_lend == 0:\n",
    "            print(\"\"\"\n",
    "                Requested amount: {reqamount}\n",
    "                Rate: {rate_}%\n",
    "                Monthly repayment: {monthly}\n",
    "                Total repayment: {totalrep}\"\"\".format(\n",
    "                    reqamount,\n",
    "                    rate_,\n",
    "                    monthly,\n",
    "                    totalrep\n",
    "                    )\n",
    "              break"
   ]
  }
 ],
 "metadata": {
  "kernelspec": {
   "display_name": "Python 3",
   "language": "python",
   "name": "python3"
  },
  "language_info": {
   "codemirror_mode": {
    "name": "ipython",
    "version": 3
   },
   "file_extension": ".py",
   "mimetype": "text/x-python",
   "name": "python",
   "nbconvert_exporter": "python",
   "pygments_lexer": "ipython3",
   "version": "3.8.5"
  }
 },
 "nbformat": 4,
 "nbformat_minor": 4
}
